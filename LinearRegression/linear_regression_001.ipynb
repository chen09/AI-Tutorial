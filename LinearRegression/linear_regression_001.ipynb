{
 "cells": [
  {
   "cell_type": "markdown",
   "metadata": {},
   "source": [
    "### 最简单的AI例子，一元一次函数 y = ax + b 的回归计算"
   ]
  },
  {
   "cell_type": "code",
   "execution_count": 1,
   "metadata": {},
   "outputs": [],
   "source": [
    "import tensorflow as tf\n",
    "import numpy as np\n",
    "import matplotlib.pyplot as plt\n",
    "import os\n",
    "os.environ['TF_CPP_MIN_LOG_LEVEL'] = '2'"
   ]
  },
  {
   "cell_type": "markdown",
   "metadata": {},
   "source": [
    "#### 数据准备"
   ]
  },
  {
   "cell_type": "code",
   "execution_count": 2,
   "metadata": {
    "scrolled": false
   },
   "outputs": [
    {
     "name": "stdout",
     "output_type": "stream",
     "text": [
      "[-1.         -0.77777778 -0.55555556 -0.33333333 -0.11111111  0.11111111\n",
      "  0.33333333  0.55555556  0.77777778  1.        ]\n",
      "[-2.17025279 -1.03932182 -0.88859948 -0.53007941  0.68616605  0.86240646\n",
      "  1.67856212  2.01787485  2.25369263  2.70425747]\n"
     ]
    }
   ],
   "source": [
    "x_data = np.linspace(-1, 1, 10, dtype=np.float)\n",
    "print(x_data)\n",
    "y_data = np.dot(2.5, x_data) + 0.5 + np.random.randn(10) / 5\n",
    "print(y_data)"
   ]
  },
  {
   "cell_type": "markdown",
   "metadata": {},
   "source": [
    "#### 模型准备"
   ]
  },
  {
   "cell_type": "code",
   "execution_count": 3,
   "metadata": {},
   "outputs": [
    {
     "name": "stdout",
     "output_type": "stream",
     "text": [
      "WARNING:tensorflow:From /anaconda3/envs/tensorflow/lib/python3.7/site-packages/tensorflow/python/framework/op_def_library.py:263: colocate_with (from tensorflow.python.framework.ops) is deprecated and will be removed in a future version.\n",
      "Instructions for updating:\n",
      "Colocations handled automatically by placer.\n"
     ]
    }
   ],
   "source": [
    "# 模型准备\n",
    "# 偏移量\n",
    "b = tf.Variable(tf.zeros([1]) + 0.1)\n",
    "# 权重（斜率）\n",
    "w = tf.Variable(tf.random_uniform([1], -1.0, 1.0))\n",
    "# 目标函数\n",
    "y = tf.multiply(w, x_data) + b\n",
    "# 损失函数\n",
    "loss = tf.reduce_mean(tf.square(y - y_data))\n",
    "# 优化器\n",
    "optimizer = tf.train.AdamOptimizer(0.001)\n",
    "train = optimizer.minimize(loss)"
   ]
  },
  {
   "cell_type": "code",
   "execution_count": 4,
   "metadata": {},
   "outputs": [],
   "source": [
    "init = tf.global_variables_initializer()"
   ]
  },
  {
   "cell_type": "code",
   "execution_count": 5,
   "metadata": {},
   "outputs": [
    {
     "name": "stdout",
     "output_type": "stream",
     "text": [
      "[0.85559875] [0.101] 1.2534794\n",
      "[1.697486] [0.55018926] 0.26970127\n",
      "[2.1971128] [0.5574685] 0.08250744\n",
      "[2.380025] [0.55746925] 0.064858325\n",
      "[2.406181] [0.5574698] 0.064562395\n",
      "[2.4069717] [0.55747014] 0.06456211\n",
      "[2.4069781] [0.5574703] 0.06456212\n",
      "[2.4069822] [0.5574705] 0.06456212\n",
      "[2.4069846] [0.55747056] 0.06456212\n",
      "[2.406986] [0.5574706] 0.064562105\n"
     ]
    }
   ],
   "source": [
    "with tf.Session() as sess:\n",
    "    sess.run(init)\n",
    "    for step in range(0, 10000):\n",
    "        sess.run(train)\n",
    "        if step % 1000 == 0:\n",
    "            print(sess.run(w), sess.run(b), sess.run(loss))\n",
    "    y_data_new = sess.run(y)"
   ]
  },
  {
   "cell_type": "code",
   "execution_count": 6,
   "metadata": {},
   "outputs": [
    {
     "data": {
      "image/png": "[encoded data removed]",
      "text/plain": [
       "<Figure size 432x288 with 1 Axes>"
      ]
     },
     "metadata": {
      "needs_background": "light"
     },
     "output_type": "display_data"
    }
   ],
   "source": [
    "plt.scatter(x_data, y_data)\n",
    "plt.plot(x_data, y_data_new, color='red')\n",
    "plt.show()"
   ]
  },
  {
   "cell_type": "code",
   "execution_count": null,
   "metadata": {},
   "outputs": [],
   "source": []
  }
 ],
 "metadata": {
  "kernelspec": {
   "display_name": "Python 3",
   "language": "python",
   "name": "python3"
  },
  "language_info": {
   "codemirror_mode": {
    "name": "ipython",
    "version": 3
   },
   "file_extension": ".py",
   "mimetype": "text/x-python",
   "name": "python",
   "nbconvert_exporter": "python",
   "pygments_lexer": "ipython3",
   "version": "3.7.3"
  },
  "pycharm": {
   "stem_cell": {
    "cell_type": "raw",
    "metadata": {
     "collapsed": false
    },
    "source": [
     "## 最简单的AI例子，一元一次函数 y = ax + b 的回归计算\n",
     "\n"
    ]
   }
  }
 },
 "nbformat": 4,
 "nbformat_minor": 1
}
